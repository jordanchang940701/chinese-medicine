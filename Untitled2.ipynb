{
  "nbformat": 4,
  "nbformat_minor": 0,
  "metadata": {
    "colab": {
      "provenance": []
    },
    "kernelspec": {
      "name": "python3",
      "display_name": "Python 3"
    },
    "language_info": {
      "name": "python"
    }
  },
  "cells": [
    {
      "cell_type": "code",
      "execution_count": null,
      "metadata": {
        "id": "dy7JRBIrFL_M"
      },
      "outputs": [],
      "source": [
        "prescription = {\n",
        "    '名稱': '蘇子降氣湯',\n",
        "    '出典': '太平惠民和劑局方',\n",
        "    '處方': {\n",
        "        '當歸': 2,\n",
        "        '甘草': 2,\n",
        "        '厚朴': 2,\n",
        "        '前胡': 2,\n",
        "        '陳皮': 3,\n",
        "        '肉桂': 3,\n",
        "        '蘇子': 5,\n",
        "        '半夏': 5,\n",
        "        '生薑': 2,\n",
        "        '大棗': 1\n",
        "    },\n",
        "    '效能': '降氣平喘，溫化痰濕',\n",
        "    '適應症': ['痰涎壅盛','咳喘短氣','胸膈滿悶','咽喉不利']\n",
        "\n",
        "}\n",
        "\n",
        "while True:\n",
        "    query = input(\"\\n您想查詢什麼？(藥方名稱/出典/處方/效能/適應症/退出查詢)：\")\n",
        "\n",
        "    if query == \"藥方名稱\":\n",
        "        print(f\"{prescription['名稱']}\")\n",
        "    elif query == \"出典\":\n",
        "        print(f\"{prescription['名稱']}的出典為:{prescription['出典']}\")\n",
        "    elif query == \"適應症\":\n",
        "        print(f\"{prescription['名稱']}的適應症有:\")\n",
        "        for symptom in prescription['適應症']:\n",
        "            print(symptom)\n",
        "    elif query == \"處方\":\n",
        "        total_weight = sum(prescription['處方'].values())\n",
        "        print(f\"{prescription['名稱']}的處方為:\")\n",
        "        for medicine, weight in prescription['處方'].items():\n",
        "            print(f\"{medicine}：{weight}公克\")\n",
        "        print(f\"總克數為：{total_weight}公克\")\n",
        "    elif query == \"效能\":\n",
        "        print(f\"{prescription['名稱']}的效能是:{prescription['效能']}\")\n",
        "    elif query == \"退出查詢\":\n",
        "        print(\"感謝使用，再見！\")\n",
        "        break\n",
        "    else:\n",
        "        print(\"輸入無效，請重新輸入。\")"
      ]
    }
  ]
}